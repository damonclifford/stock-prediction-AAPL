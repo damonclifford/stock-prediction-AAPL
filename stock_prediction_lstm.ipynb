{
  "nbformat": 4,
  "nbformat_minor": 0,
  "metadata": {
    "colab": {
      "name": "stock-prediction-lstm.ipynb",
      "provenance": [],
      "collapsed_sections": []
    },
    "kernelspec": {
      "name": "python3",
      "display_name": "Python 3"
    },
    "accelerator": "GPU"
  },
  "cells": [
    {
      "cell_type": "code",
      "metadata": {
        "id": "SjQrOuXhTtt4",
        "colab_type": "code",
        "colab": {}
      },
      "source": [
        "import pandas as pd\n",
        "import matplotlib.pyplot as plt\n",
        "import numpy as np\n",
        "from sklearn.preprocessing import MinMaxScaler\n",
        "from sklearn.metrics import mean_squared_error"
      ],
      "execution_count": 23,
      "outputs": []
    },
    {
      "cell_type": "code",
      "metadata": {
        "id": "IFSG2YDLUSLS",
        "colab_type": "code",
        "colab": {}
      },
      "source": [
        "df = pd.read_csv('/content/AAPL.csv')"
      ],
      "execution_count": 4,
      "outputs": []
    },
    {
      "cell_type": "code",
      "metadata": {
        "id": "JHXv9bn6UiKZ",
        "colab_type": "code",
        "colab": {
          "base_uri": "https://localhost:8080/",
          "height": 206
        },
        "outputId": "65f1258a-4987-4e17-eece-2e3511d9b799"
      },
      "source": [
        "df.head()"
      ],
      "execution_count": 5,
      "outputs": [
        {
          "output_type": "execute_result",
          "data": {
            "text/html": [
              "<div>\n",
              "<style scoped>\n",
              "    .dataframe tbody tr th:only-of-type {\n",
              "        vertical-align: middle;\n",
              "    }\n",
              "\n",
              "    .dataframe tbody tr th {\n",
              "        vertical-align: top;\n",
              "    }\n",
              "\n",
              "    .dataframe thead th {\n",
              "        text-align: right;\n",
              "    }\n",
              "</style>\n",
              "<table border=\"1\" class=\"dataframe\">\n",
              "  <thead>\n",
              "    <tr style=\"text-align: right;\">\n",
              "      <th></th>\n",
              "      <th>close</th>\n",
              "      <th>high</th>\n",
              "      <th>low</th>\n",
              "      <th>open</th>\n",
              "      <th>volume</th>\n",
              "      <th>adjClose</th>\n",
              "      <th>adjHigh</th>\n",
              "      <th>adjLow</th>\n",
              "      <th>adjOpen</th>\n",
              "      <th>adjVolume</th>\n",
              "      <th>divCash</th>\n",
              "      <th>splitFactor</th>\n",
              "    </tr>\n",
              "  </thead>\n",
              "  <tbody>\n",
              "    <tr>\n",
              "      <th>0</th>\n",
              "      <td>125.16</td>\n",
              "      <td>127.09</td>\n",
              "      <td>125.06</td>\n",
              "      <td>126.20</td>\n",
              "      <td>50999452</td>\n",
              "      <td>115.337869</td>\n",
              "      <td>117.116409</td>\n",
              "      <td>115.245717</td>\n",
              "      <td>116.296253</td>\n",
              "      <td>50999452</td>\n",
              "      <td>0.0</td>\n",
              "      <td>1.0</td>\n",
              "    </tr>\n",
              "    <tr>\n",
              "      <th>1</th>\n",
              "      <td>124.50</td>\n",
              "      <td>125.74</td>\n",
              "      <td>123.90</td>\n",
              "      <td>125.32</td>\n",
              "      <td>42162332</td>\n",
              "      <td>114.729663</td>\n",
              "      <td>115.872352</td>\n",
              "      <td>114.176749</td>\n",
              "      <td>115.485313</td>\n",
              "      <td>42162332</td>\n",
              "      <td>0.0</td>\n",
              "      <td>1.0</td>\n",
              "    </tr>\n",
              "    <tr>\n",
              "      <th>2</th>\n",
              "      <td>122.77</td>\n",
              "      <td>123.61</td>\n",
              "      <td>122.12</td>\n",
              "      <td>123.09</td>\n",
              "      <td>44455540</td>\n",
              "      <td>113.135428</td>\n",
              "      <td>113.909508</td>\n",
              "      <td>112.536438</td>\n",
              "      <td>113.430315</td>\n",
              "      <td>44455540</td>\n",
              "      <td>0.0</td>\n",
              "      <td>1.0</td>\n",
              "    </tr>\n",
              "    <tr>\n",
              "      <th>3</th>\n",
              "      <td>123.38</td>\n",
              "      <td>123.91</td>\n",
              "      <td>122.55</td>\n",
              "      <td>123.38</td>\n",
              "      <td>33618097</td>\n",
              "      <td>113.697557</td>\n",
              "      <td>114.185965</td>\n",
              "      <td>112.932693</td>\n",
              "      <td>113.697557</td>\n",
              "      <td>33618097</td>\n",
              "      <td>0.0</td>\n",
              "      <td>1.0</td>\n",
              "    </tr>\n",
              "    <tr>\n",
              "      <th>4</th>\n",
              "      <td>122.99</td>\n",
              "      <td>123.50</td>\n",
              "      <td>122.27</td>\n",
              "      <td>123.15</td>\n",
              "      <td>37011653</td>\n",
              "      <td>113.338163</td>\n",
              "      <td>113.808140</td>\n",
              "      <td>112.674666</td>\n",
              "      <td>113.485607</td>\n",
              "      <td>37011653</td>\n",
              "      <td>0.0</td>\n",
              "      <td>1.0</td>\n",
              "    </tr>\n",
              "  </tbody>\n",
              "</table>\n",
              "</div>"
            ],
            "text/plain": [
              "    close    high     low    open  ...     adjOpen  adjVolume  divCash  splitFactor\n",
              "0  125.16  127.09  125.06  126.20  ...  116.296253   50999452      0.0          1.0\n",
              "1  124.50  125.74  123.90  125.32  ...  115.485313   42162332      0.0          1.0\n",
              "2  122.77  123.61  122.12  123.09  ...  113.430315   44455540      0.0          1.0\n",
              "3  123.38  123.91  122.55  123.38  ...  113.697557   33618097      0.0          1.0\n",
              "4  122.99  123.50  122.27  123.15  ...  113.485607   37011653      0.0          1.0\n",
              "\n",
              "[5 rows x 12 columns]"
            ]
          },
          "metadata": {
            "tags": []
          },
          "execution_count": 5
        }
      ]
    },
    {
      "cell_type": "code",
      "metadata": {
        "id": "6tWO8yNHUome",
        "colab_type": "code",
        "colab": {}
      },
      "source": [
        "stockClosed = df['close']"
      ],
      "execution_count": 6,
      "outputs": []
    },
    {
      "cell_type": "code",
      "metadata": {
        "id": "ChN-oblzVCHT",
        "colab_type": "code",
        "colab": {
          "base_uri": "https://localhost:8080/",
          "height": 124
        },
        "outputId": "f4135f4e-5892-4134-ccbd-f0ee4532a740"
      },
      "source": [
        "stockClosed.head()"
      ],
      "execution_count": 7,
      "outputs": [
        {
          "output_type": "execute_result",
          "data": {
            "text/plain": [
              "0    125.16\n",
              "1    124.50\n",
              "2    122.77\n",
              "3    123.38\n",
              "4    122.99\n",
              "Name: close, dtype: float64"
            ]
          },
          "metadata": {
            "tags": []
          },
          "execution_count": 7
        }
      ]
    },
    {
      "cell_type": "code",
      "metadata": {
        "id": "H7SSkD4oVEbe",
        "colab_type": "code",
        "colab": {
          "base_uri": "https://localhost:8080/",
          "height": 283
        },
        "outputId": "f72ace35-34b1-4fa2-84da-8f682443d821"
      },
      "source": [
        "plt.plot(stockClosed)"
      ],
      "execution_count": 8,
      "outputs": [
        {
          "output_type": "execute_result",
          "data": {
            "text/plain": [
              "[<matplotlib.lines.Line2D at 0x7f1677e269e8>]"
            ]
          },
          "metadata": {
            "tags": []
          },
          "execution_count": 8
        },
        {
          "output_type": "display_data",
          "data": {
            "image/png": "[encoded data removed]",
            "text/plain": [
              "<Figure size 432x288 with 1 Axes>"
            ]
          },
          "metadata": {
            "tags": [],
            "needs_background": "light"
          }
        }
      ]
    },
    {
      "cell_type": "code",
      "metadata": {
        "id": "zaJPIdAMV-Jw",
        "colab_type": "code",
        "colab": {}
      },
      "source": [
        "scaler = MinMaxScaler(feature_range=(0,1))\n",
        "stockClosed = scaler.fit_transform(np.array(stockClosed).reshape(-1,1))"
      ],
      "execution_count": 9,
      "outputs": []
    },
    {
      "cell_type": "code",
      "metadata": {
        "id": "mI4QoqEdXdzI",
        "colab_type": "code",
        "colab": {
          "base_uri": "https://localhost:8080/",
          "height": 142
        },
        "outputId": "124f3e3f-3f63-4add-a30a-9041f1d0f538"
      },
      "source": [
        "stockClosed"
      ],
      "execution_count": 10,
      "outputs": [
        {
          "output_type": "execute_result",
          "data": {
            "text/plain": [
              "array([[0.11488337],\n",
              "       [0.1127058 ],\n",
              "       [0.10699792],\n",
              "       ...,\n",
              "       [0.97320928],\n",
              "       [1.        ],\n",
              "       [0.98208453]])"
            ]
          },
          "metadata": {
            "tags": []
          },
          "execution_count": 10
        }
      ]
    },
    {
      "cell_type": "code",
      "metadata": {
        "id": "xlqjwQZ_Xe8o",
        "colab_type": "code",
        "colab": {}
      },
      "source": [
        "training_size = int(len(stockClosed)*0.65)\n",
        "testing_size = len(stockClosed)-training_size\n",
        "train_data, test_data = stockClosed[0:training_size,:],stockClosed[training_size:len(stockClosed),:]"
      ],
      "execution_count": 11,
      "outputs": []
    },
    {
      "cell_type": "code",
      "metadata": {
        "id": "I9ptX2EGaTh4",
        "colab_type": "code",
        "colab": {
          "base_uri": "https://localhost:8080/",
          "height": 35
        },
        "outputId": "1bdd53dd-d4bd-4b05-8c0d-f4157826c5fe"
      },
      "source": [
        "train_data.shape, test_data.shape"
      ],
      "execution_count": 12,
      "outputs": [
        {
          "output_type": "execute_result",
          "data": {
            "text/plain": [
              "((817, 1), (441, 1))"
            ]
          },
          "metadata": {
            "tags": []
          },
          "execution_count": 12
        }
      ]
    },
    {
      "cell_type": "code",
      "metadata": {
        "id": "hoAxV-6zaWqw",
        "colab_type": "code",
        "colab": {}
      },
      "source": [
        "def dataset_gen(data, time_step):\n",
        "  dataX, dataY =[],[]\n",
        "  for i in range(len(data)-time_step-1):\n",
        "    dataX.append(data[i:(i+time_step),0])\n",
        "    dataY.append(data[i+time_step,0])\n",
        "  return np.array(dataX), np.array(dataY)"
      ],
      "execution_count": 13,
      "outputs": []
    },
    {
      "cell_type": "code",
      "metadata": {
        "id": "ipZ5ZjUccZdu",
        "colab_type": "code",
        "colab": {}
      },
      "source": [
        "x_train, y_train = dataset_gen(train_data,100)\n",
        "x_test, y_test = dataset_gen(test_data,100)"
      ],
      "execution_count": 14,
      "outputs": []
    },
    {
      "cell_type": "code",
      "metadata": {
        "id": "e00rsa6ZcsN8",
        "colab_type": "code",
        "colab": {
          "base_uri": "https://localhost:8080/",
          "height": 53
        },
        "outputId": "e752cc29-2564-43d2-8a72-91220eaeb808"
      },
      "source": [
        "print('Train data shape: ',x_train.shape, y_train.shape)\n",
        "print('Test data shape: ',x_test.shape, y_test.shape)"
      ],
      "execution_count": 15,
      "outputs": [
        {
          "output_type": "stream",
          "text": [
            "Train data shape:  (716, 100) (716,)\n",
            "Test data shape:  (340, 100) (340,)\n"
          ],
          "name": "stdout"
        }
      ]
    },
    {
      "cell_type": "code",
      "metadata": {
        "id": "qk0kUKnec0Fu",
        "colab_type": "code",
        "colab": {}
      },
      "source": [
        "x_train = x_train.reshape(x_train.shape[0],x_train.shape[1],1)\n",
        "x_test = x_test.reshape(x_test.shape[0],x_test.shape[1],1)"
      ],
      "execution_count": 16,
      "outputs": []
    },
    {
      "cell_type": "code",
      "metadata": {
        "id": "qltDRLKweD7T",
        "colab_type": "code",
        "colab": {}
      },
      "source": [
        "from tensorflow.keras import Sequential\n",
        "from tensorflow.keras.layers import LSTM\n",
        "from tensorflow.keras.layers import Dense"
      ],
      "execution_count": 17,
      "outputs": []
    },
    {
      "cell_type": "code",
      "metadata": {
        "id": "wMlijLYfeYao",
        "colab_type": "code",
        "colab": {}
      },
      "source": [
        "lstm_model = Sequential()\n",
        "lstm_model.add(LSTM(50,return_sequences=True,input_shape=(100,1)))\n",
        "lstm_model.add(LSTM(50,return_sequences=True))\n",
        "lstm_model.add(LSTM(50))\n",
        "lstm_model.add(Dense(1))\n",
        "lstm_model.compile(loss='mean_squared_error', optimizer='adam')"
      ],
      "execution_count": 18,
      "outputs": []
    },
    {
      "cell_type": "code",
      "metadata": {
        "id": "FXDgd6_ufRdh",
        "colab_type": "code",
        "colab": {
          "base_uri": "https://localhost:8080/",
          "height": 303
        },
        "outputId": "b4f9e021-a68f-46a3-b62f-cfe355b736aa"
      },
      "source": [
        "lstm_model.summary()"
      ],
      "execution_count": 19,
      "outputs": [
        {
          "output_type": "stream",
          "text": [
            "Model: \"sequential\"\n",
            "_________________________________________________________________\n",
            "Layer (type)                 Output Shape              Param #   \n",
            "=================================================================\n",
            "lstm (LSTM)                  (None, 100, 50)           10400     \n",
            "_________________________________________________________________\n",
            "lstm_1 (LSTM)                (None, 100, 50)           20200     \n",
            "_________________________________________________________________\n",
            "lstm_2 (LSTM)                (None, 50)                20200     \n",
            "_________________________________________________________________\n",
            "dense (Dense)                (None, 1)                 51        \n",
            "=================================================================\n",
            "Total params: 50,851\n",
            "Trainable params: 50,851\n",
            "Non-trainable params: 0\n",
            "_________________________________________________________________\n"
          ],
          "name": "stdout"
        }
      ]
    },
    {
      "cell_type": "code",
      "metadata": {
        "id": "wNqn-P0SfUZy",
        "colab_type": "code",
        "colab": {
          "base_uri": "https://localhost:8080/",
          "height": 1000
        },
        "outputId": "0f5cb01d-63fa-4158-c0f7-cd9ce462f21e"
      },
      "source": [
        "lstm_model.fit(x=x_train,y=y_train, validation_data=(x_test,y_test), epochs=100, batch_size=64, verbose=1)"
      ],
      "execution_count": 20,
      "outputs": [
        {
          "output_type": "stream",
          "text": [
            "Epoch 1/100\n",
            "12/12 [==============================] - 2s 176ms/step - loss: 0.0179 - val_loss: 0.0436\n",
            "Epoch 2/100\n",
            "12/12 [==============================] - 1s 75ms/step - loss: 0.0028 - val_loss: 0.0037\n",
            "Epoch 3/100\n",
            "12/12 [==============================] - 1s 75ms/step - loss: 6.3733e-04 - val_loss: 0.0031\n",
            "Epoch 4/100\n",
            "12/12 [==============================] - 1s 75ms/step - loss: 4.4197e-04 - val_loss: 0.0039\n",
            "Epoch 5/100\n",
            "12/12 [==============================] - 1s 75ms/step - loss: 4.0861e-04 - val_loss: 0.0029\n",
            "Epoch 6/100\n",
            "12/12 [==============================] - 1s 74ms/step - loss: 3.9415e-04 - val_loss: 0.0028\n",
            "Epoch 7/100\n",
            "12/12 [==============================] - 1s 73ms/step - loss: 3.9153e-04 - val_loss: 0.0026\n",
            "Epoch 8/100\n",
            "12/12 [==============================] - 1s 75ms/step - loss: 3.7833e-04 - val_loss: 0.0027\n",
            "Epoch 9/100\n",
            "12/12 [==============================] - 1s 73ms/step - loss: 3.8781e-04 - val_loss: 0.0026\n",
            "Epoch 10/100\n",
            "12/12 [==============================] - 1s 75ms/step - loss: 3.7019e-04 - val_loss: 0.0025\n",
            "Epoch 11/100\n",
            "12/12 [==============================] - 1s 75ms/step - loss: 3.7124e-04 - val_loss: 0.0026\n",
            "Epoch 12/100\n",
            "12/12 [==============================] - 1s 74ms/step - loss: 4.0315e-04 - val_loss: 0.0038\n",
            "Epoch 13/100\n",
            "12/12 [==============================] - 1s 74ms/step - loss: 3.8596e-04 - val_loss: 0.0024\n",
            "Epoch 14/100\n",
            "12/12 [==============================] - 1s 74ms/step - loss: 3.4678e-04 - val_loss: 0.0023\n",
            "Epoch 15/100\n",
            "12/12 [==============================] - 1s 75ms/step - loss: 3.5212e-04 - val_loss: 0.0026\n",
            "Epoch 16/100\n",
            "12/12 [==============================] - 1s 73ms/step - loss: 3.8924e-04 - val_loss: 0.0032\n",
            "Epoch 17/100\n",
            "12/12 [==============================] - 1s 74ms/step - loss: 3.3807e-04 - val_loss: 0.0021\n",
            "Epoch 18/100\n",
            "12/12 [==============================] - 1s 74ms/step - loss: 3.4555e-04 - val_loss: 0.0021\n",
            "Epoch 19/100\n",
            "12/12 [==============================] - 1s 74ms/step - loss: 3.3469e-04 - val_loss: 0.0027\n",
            "Epoch 20/100\n",
            "12/12 [==============================] - 1s 73ms/step - loss: 3.2850e-04 - val_loss: 0.0022\n",
            "Epoch 21/100\n",
            "12/12 [==============================] - 1s 74ms/step - loss: 3.0592e-04 - val_loss: 0.0019\n",
            "Epoch 22/100\n",
            "12/12 [==============================] - 1s 74ms/step - loss: 3.1412e-04 - val_loss: 0.0032\n",
            "Epoch 23/100\n",
            "12/12 [==============================] - 1s 74ms/step - loss: 3.1251e-04 - val_loss: 0.0017\n",
            "Epoch 24/100\n",
            "12/12 [==============================] - 1s 73ms/step - loss: 3.0274e-04 - val_loss: 0.0020\n",
            "Epoch 25/100\n",
            "12/12 [==============================] - 1s 73ms/step - loss: 2.9478e-04 - val_loss: 0.0016\n",
            "Epoch 26/100\n",
            "12/12 [==============================] - 1s 74ms/step - loss: 3.1114e-04 - val_loss: 0.0026\n",
            "Epoch 27/100\n",
            "12/12 [==============================] - 1s 73ms/step - loss: 3.0759e-04 - val_loss: 0.0016\n",
            "Epoch 28/100\n",
            "12/12 [==============================] - 1s 74ms/step - loss: 2.8126e-04 - val_loss: 0.0032\n",
            "Epoch 29/100\n",
            "12/12 [==============================] - 1s 74ms/step - loss: 3.2382e-04 - val_loss: 0.0014\n",
            "Epoch 30/100\n",
            "12/12 [==============================] - 1s 72ms/step - loss: 3.0020e-04 - val_loss: 0.0023\n",
            "Epoch 31/100\n",
            "12/12 [==============================] - 1s 74ms/step - loss: 2.7542e-04 - val_loss: 0.0015\n",
            "Epoch 32/100\n",
            "12/12 [==============================] - 1s 74ms/step - loss: 2.8249e-04 - val_loss: 0.0023\n",
            "Epoch 33/100\n",
            "12/12 [==============================] - 1s 72ms/step - loss: 3.1519e-04 - val_loss: 0.0016\n",
            "Epoch 34/100\n",
            "12/12 [==============================] - 1s 74ms/step - loss: 2.6969e-04 - val_loss: 0.0018\n",
            "Epoch 35/100\n",
            "12/12 [==============================] - 1s 76ms/step - loss: 2.6649e-04 - val_loss: 0.0016\n",
            "Epoch 36/100\n",
            "12/12 [==============================] - 1s 74ms/step - loss: 2.6702e-04 - val_loss: 0.0016\n",
            "Epoch 37/100\n",
            "12/12 [==============================] - 1s 74ms/step - loss: 3.0020e-04 - val_loss: 0.0017\n",
            "Epoch 38/100\n",
            "12/12 [==============================] - 1s 75ms/step - loss: 2.5730e-04 - val_loss: 0.0016\n",
            "Epoch 39/100\n",
            "12/12 [==============================] - 1s 73ms/step - loss: 2.5505e-04 - val_loss: 0.0014\n",
            "Epoch 40/100\n",
            "12/12 [==============================] - 1s 76ms/step - loss: 2.4956e-04 - val_loss: 0.0018\n",
            "Epoch 41/100\n",
            "12/12 [==============================] - 1s 73ms/step - loss: 2.5781e-04 - val_loss: 0.0015\n",
            "Epoch 42/100\n",
            "12/12 [==============================] - 1s 74ms/step - loss: 2.3630e-04 - val_loss: 0.0016\n",
            "Epoch 43/100\n",
            "12/12 [==============================] - 1s 74ms/step - loss: 2.4499e-04 - val_loss: 0.0013\n",
            "Epoch 44/100\n",
            "12/12 [==============================] - 1s 73ms/step - loss: 2.3681e-04 - val_loss: 0.0012\n",
            "Epoch 45/100\n",
            "12/12 [==============================] - 1s 74ms/step - loss: 2.5099e-04 - val_loss: 0.0012\n",
            "Epoch 46/100\n",
            "12/12 [==============================] - 1s 74ms/step - loss: 2.6057e-04 - val_loss: 0.0020\n",
            "Epoch 47/100\n",
            "12/12 [==============================] - 1s 74ms/step - loss: 2.4700e-04 - val_loss: 0.0011\n",
            "Epoch 48/100\n",
            "12/12 [==============================] - 1s 74ms/step - loss: 2.6205e-04 - val_loss: 0.0026\n",
            "Epoch 49/100\n",
            "12/12 [==============================] - 1s 75ms/step - loss: 2.3810e-04 - val_loss: 0.0018\n",
            "Epoch 50/100\n",
            "12/12 [==============================] - 1s 73ms/step - loss: 2.2426e-04 - val_loss: 0.0014\n",
            "Epoch 51/100\n",
            "12/12 [==============================] - 1s 73ms/step - loss: 2.1493e-04 - val_loss: 0.0019\n",
            "Epoch 52/100\n",
            "12/12 [==============================] - 1s 74ms/step - loss: 2.4307e-04 - val_loss: 0.0012\n",
            "Epoch 53/100\n",
            "12/12 [==============================] - 1s 74ms/step - loss: 2.3388e-04 - val_loss: 0.0023\n",
            "Epoch 54/100\n",
            "12/12 [==============================] - 1s 73ms/step - loss: 2.1261e-04 - val_loss: 0.0014\n",
            "Epoch 55/100\n",
            "12/12 [==============================] - 1s 72ms/step - loss: 2.1643e-04 - val_loss: 0.0015\n",
            "Epoch 56/100\n",
            "12/12 [==============================] - 1s 74ms/step - loss: 2.1535e-04 - val_loss: 0.0011\n",
            "Epoch 57/100\n",
            "12/12 [==============================] - 1s 74ms/step - loss: 2.6299e-04 - val_loss: 0.0020\n",
            "Epoch 58/100\n",
            "12/12 [==============================] - 1s 75ms/step - loss: 2.4511e-04 - val_loss: 0.0011\n",
            "Epoch 59/100\n",
            "12/12 [==============================] - 1s 74ms/step - loss: 2.4111e-04 - val_loss: 0.0022\n",
            "Epoch 60/100\n",
            "12/12 [==============================] - 1s 73ms/step - loss: 2.1295e-04 - val_loss: 0.0011\n",
            "Epoch 61/100\n",
            "12/12 [==============================] - 1s 73ms/step - loss: 2.2073e-04 - val_loss: 0.0012\n",
            "Epoch 62/100\n",
            "12/12 [==============================] - 1s 73ms/step - loss: 1.8881e-04 - val_loss: 0.0011\n",
            "Epoch 63/100\n",
            "12/12 [==============================] - 1s 71ms/step - loss: 2.0553e-04 - val_loss: 0.0014\n",
            "Epoch 64/100\n",
            "12/12 [==============================] - 1s 74ms/step - loss: 1.9597e-04 - val_loss: 0.0012\n",
            "Epoch 65/100\n",
            "12/12 [==============================] - 1s 73ms/step - loss: 1.9279e-04 - val_loss: 0.0016\n",
            "Epoch 66/100\n",
            "12/12 [==============================] - 1s 73ms/step - loss: 2.1653e-04 - val_loss: 0.0011\n",
            "Epoch 67/100\n",
            "12/12 [==============================] - 1s 72ms/step - loss: 1.8289e-04 - val_loss: 0.0015\n",
            "Epoch 68/100\n",
            "12/12 [==============================] - 1s 71ms/step - loss: 1.7747e-04 - val_loss: 9.5938e-04\n",
            "Epoch 69/100\n",
            "12/12 [==============================] - 1s 73ms/step - loss: 1.9223e-04 - val_loss: 0.0015\n",
            "Epoch 70/100\n",
            "12/12 [==============================] - 1s 73ms/step - loss: 1.7842e-04 - val_loss: 9.7347e-04\n",
            "Epoch 71/100\n",
            "12/12 [==============================] - 1s 72ms/step - loss: 1.9438e-04 - val_loss: 0.0014\n",
            "Epoch 72/100\n",
            "12/12 [==============================] - 1s 72ms/step - loss: 1.7351e-04 - val_loss: 0.0011\n",
            "Epoch 73/100\n",
            "12/12 [==============================] - 1s 74ms/step - loss: 1.7258e-04 - val_loss: 0.0010\n",
            "Epoch 74/100\n",
            "12/12 [==============================] - 1s 73ms/step - loss: 1.8144e-04 - val_loss: 0.0019\n",
            "Epoch 75/100\n",
            "12/12 [==============================] - 1s 73ms/step - loss: 1.7763e-04 - val_loss: 9.9418e-04\n",
            "Epoch 76/100\n",
            "12/12 [==============================] - 1s 74ms/step - loss: 1.6490e-04 - val_loss: 0.0020\n",
            "Epoch 77/100\n",
            "12/12 [==============================] - 1s 73ms/step - loss: 1.8116e-04 - val_loss: 8.9165e-04\n",
            "Epoch 78/100\n",
            "12/12 [==============================] - 1s 73ms/step - loss: 1.6097e-04 - val_loss: 0.0015\n",
            "Epoch 79/100\n",
            "12/12 [==============================] - 1s 74ms/step - loss: 1.7871e-04 - val_loss: 8.9329e-04\n",
            "Epoch 80/100\n",
            "12/12 [==============================] - 1s 73ms/step - loss: 2.4020e-04 - val_loss: 0.0030\n",
            "Epoch 81/100\n",
            "12/12 [==============================] - 1s 74ms/step - loss: 2.2908e-04 - val_loss: 0.0014\n",
            "Epoch 82/100\n",
            "12/12 [==============================] - 1s 72ms/step - loss: 2.5697e-04 - val_loss: 0.0033\n",
            "Epoch 83/100\n",
            "12/12 [==============================] - 1s 72ms/step - loss: 1.7184e-04 - val_loss: 0.0011\n",
            "Epoch 84/100\n",
            "12/12 [==============================] - 1s 73ms/step - loss: 1.5008e-04 - val_loss: 0.0011\n",
            "Epoch 85/100\n",
            "12/12 [==============================] - 1s 72ms/step - loss: 1.4900e-04 - val_loss: 9.9576e-04\n",
            "Epoch 86/100\n",
            "12/12 [==============================] - 1s 72ms/step - loss: 1.5246e-04 - val_loss: 7.9554e-04\n",
            "Epoch 87/100\n",
            "12/12 [==============================] - 1s 73ms/step - loss: 1.6486e-04 - val_loss: 7.8900e-04\n",
            "Epoch 88/100\n",
            "12/12 [==============================] - 1s 73ms/step - loss: 1.4897e-04 - val_loss: 0.0013\n",
            "Epoch 89/100\n",
            "12/12 [==============================] - 1s 71ms/step - loss: 1.3899e-04 - val_loss: 7.8756e-04\n",
            "Epoch 90/100\n",
            "12/12 [==============================] - 1s 73ms/step - loss: 1.5425e-04 - val_loss: 0.0011\n",
            "Epoch 91/100\n",
            "12/12 [==============================] - 1s 73ms/step - loss: 2.0320e-04 - val_loss: 7.6185e-04\n",
            "Epoch 92/100\n",
            "12/12 [==============================] - 1s 72ms/step - loss: 1.9027e-04 - val_loss: 9.7645e-04\n",
            "Epoch 93/100\n",
            "12/12 [==============================] - 1s 73ms/step - loss: 1.4481e-04 - val_loss: 8.8859e-04\n",
            "Epoch 94/100\n",
            "12/12 [==============================] - 1s 74ms/step - loss: 1.3124e-04 - val_loss: 9.8870e-04\n",
            "Epoch 95/100\n",
            "12/12 [==============================] - 1s 74ms/step - loss: 1.2377e-04 - val_loss: 7.1416e-04\n",
            "Epoch 96/100\n",
            "12/12 [==============================] - 1s 72ms/step - loss: 1.4305e-04 - val_loss: 7.7203e-04\n",
            "Epoch 97/100\n",
            "12/12 [==============================] - 1s 72ms/step - loss: 1.2566e-04 - val_loss: 7.2106e-04\n",
            "Epoch 98/100\n",
            "12/12 [==============================] - 1s 73ms/step - loss: 1.1728e-04 - val_loss: 7.1827e-04\n",
            "Epoch 99/100\n",
            "12/12 [==============================] - 1s 73ms/step - loss: 1.1931e-04 - val_loss: 0.0011\n",
            "Epoch 100/100\n",
            "12/12 [==============================] - 1s 73ms/step - loss: 1.1901e-04 - val_loss: 6.5460e-04\n"
          ],
          "name": "stdout"
        },
        {
          "output_type": "execute_result",
          "data": {
            "text/plain": [
              "<tensorflow.python.keras.callbacks.History at 0x7f16303cb160>"
            ]
          },
          "metadata": {
            "tags": []
          },
          "execution_count": 20
        }
      ]
    },
    {
      "cell_type": "code",
      "metadata": {
        "id": "MDR5RzHxgdPx",
        "colab_type": "code",
        "colab": {}
      },
      "source": [
        "train_predict = lstm_model.predict(x_train)\n",
        "test_predict = lstm_model.predict(x_test)"
      ],
      "execution_count": 21,
      "outputs": []
    },
    {
      "cell_type": "code",
      "metadata": {
        "id": "u9QQ8YiAgqWb",
        "colab_type": "code",
        "colab": {}
      },
      "source": [
        "train_predict = scaler.inverse_transform(train_predict)\n",
        "test_predict = scaler.inverse_transform(test_predict)"
      ],
      "execution_count": 22,
      "outputs": []
    },
    {
      "cell_type": "code",
      "metadata": {
        "id": "eP_H9FwQg3vW",
        "colab_type": "code",
        "colab": {
          "base_uri": "https://localhost:8080/",
          "height": 53
        },
        "outputId": "3237f047-1b12-4542-ce56-bc32cbdf2856"
      },
      "source": [
        "print('Train RMSE: ',np.sqrt(mean_squared_error(y_true=y_train,y_pred=train_predict)))\n",
        "print('Test RMSE: ',np.sqrt(mean_squared_error(y_true=y_test,y_pred=test_predict)))"
      ],
      "execution_count": 28,
      "outputs": [
        {
          "output_type": "stream",
          "text": [
            "Train RMSE:  149.75871598876384\n",
            "Test RMSE:  261.04627748447825\n"
          ],
          "name": "stdout"
        }
      ]
    },
    {
      "cell_type": "code",
      "metadata": {
        "id": "Tp6tUomhsTwb",
        "colab_type": "code",
        "colab": {}
      },
      "source": [
        ""
      ],
      "execution_count": null,
      "outputs": []
    }
  ]
}